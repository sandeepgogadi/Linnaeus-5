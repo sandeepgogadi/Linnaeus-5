{
  "nbformat": 4,
  "nbformat_minor": 0,
  "metadata": {
    "colab": {
      "name": "Transfer_learning_Linnaeus.ipynb",
      "version": "0.3.2",
      "provenance": [],
      "collapsed_sections": []
    },
    "kernelspec": {
      "name": "python3",
      "display_name": "Python 3"
    },
    "accelerator": "GPU"
  },
  "cells": [
    {
      "metadata": {
        "id": "3sZ1S0rckaQx",
        "colab_type": "code",
        "colab": {}
      },
      "cell_type": "code",
      "source": [
        "# !kill -9 -1"
      ],
      "execution_count": 0,
      "outputs": []
    },
    {
      "metadata": {
        "id": "E61tNuoRli1U",
        "colab_type": "code",
        "colab": {}
      },
      "cell_type": "code",
      "source": [
        "!wget http://chaladze.com/l5/img/Linnaeus%205%20256X256.rar"
      ],
      "execution_count": 0,
      "outputs": []
    },
    {
      "metadata": {
        "id": "3ya0yhhImDw7",
        "colab_type": "code",
        "colab": {}
      },
      "cell_type": "code",
      "source": [
        "!apt-get install -y unrar"
      ],
      "execution_count": 0,
      "outputs": []
    },
    {
      "metadata": {
        "id": "96b8syuqkfeO",
        "colab_type": "code",
        "colab": {}
      },
      "cell_type": "code",
      "source": [
        "ls"
      ],
      "execution_count": 0,
      "outputs": []
    },
    {
      "metadata": {
        "id": "ggrjQqvikiRx",
        "colab_type": "code",
        "colab": {}
      },
      "cell_type": "code",
      "source": [
        "!unrar x Linnaeus\\ 5\\ 256X256.rar -idq"
      ],
      "execution_count": 0,
      "outputs": []
    },
    {
      "metadata": {
        "id": "cBWcvuJkmCN7",
        "colab_type": "code",
        "colab": {}
      },
      "cell_type": "code",
      "source": [
        "!mv Linnaeus\\ 5\\ 256X256 data"
      ],
      "execution_count": 0,
      "outputs": []
    },
    {
      "metadata": {
        "id": "S0L0Clqgo8Dd",
        "colab_type": "code",
        "colab": {}
      },
      "cell_type": "code",
      "source": [
        "ls data/"
      ],
      "execution_count": 0,
      "outputs": []
    },
    {
      "metadata": {
        "id": "oVyMcAeepuVY",
        "colab_type": "code",
        "colab": {}
      },
      "cell_type": "code",
      "source": [
        "import tensorflow as tf\n",
        "import keras.backend as K\n",
        "from keras.preprocessing.image import ImageDataGenerator"
      ],
      "execution_count": 0,
      "outputs": []
    },
    {
      "metadata": {
        "id": "nr990656t1nA",
        "colab_type": "code",
        "colab": {}
      },
      "cell_type": "code",
      "source": [
        "from keras.layers import Dense,Conv2D,MaxPooling2D,Dropout,Flatten,Input\n",
        "from keras.models import Sequential, Model\n",
        "from keras.applications.mobilenet import MobileNet\n",
        "\n",
        "def get_model(num_classes, image_size):\n",
        "  \n",
        "    image_input = Input(shape=(image_size, image_size, 3))\n",
        "\n",
        "    model = MobileNet(input_tensor=image_input, include_top=False, weights='imagenet')\n",
        "    #model.summary()\n",
        "\n",
        "    last_layer = model.layers[-1].output\n",
        "    \n",
        "    x= Flatten(name='flatten')(last_layer)\n",
        "    x = Dense(128, activation='relu', name='fc1')(x)\n",
        "    x = Dense(128, activation='relu', name='fc2')(x)\n",
        "    out = Dense(num_classes, activation='softmax', name='output')(x)\n",
        "\n",
        "    transfer_model = Model(image_input, out)\n",
        "\n",
        "    for layer in transfer_model.layers[:-3]:\n",
        "        layer.trainable = False\n",
        "    \n",
        "    #transfer_model.summary()\n",
        "    \n",
        "    transfer_model.compile(optimizer = 'adam', loss='categorical_crossentropy', metrics=['accuracy'])   \n",
        "\n",
        "    return transfer_model  "
      ],
      "execution_count": 0,
      "outputs": []
    },
    {
      "metadata": {
        "id": "ulXn2Zd1tAno",
        "colab_type": "code",
        "colab": {}
      },
      "cell_type": "code",
      "source": [
        "num_classes = 5\n",
        "batch_size = 64\n",
        "image_size = 224\n",
        "num_epochs = 100"
      ],
      "execution_count": 0,
      "outputs": []
    },
    {
      "metadata": {
        "id": "Es33yc5Bo9Xp",
        "colab_type": "code",
        "colab": {
          "base_uri": "https://localhost:8080/",
          "height": 6939
        },
        "outputId": "c07434e7-b87a-4bda-c19d-ed0929dc64ac"
      },
      "cell_type": "code",
      "source": [
        "# train_datagen = ImageDataGenerator(rescale=1./255, shear_range=0.2, zoom_range=0.2,\n",
        "#                                    horizontal_flip=True, validation_split=0.2)\n",
        "\n",
        "train_datagen = ImageDataGenerator(rescale=1./255, validation_split=0.33)\n",
        "\n",
        "train_generator = train_datagen.flow_from_directory('data/train', \n",
        "                                                    target_size=(image_size, image_size),\n",
        "                                                    batch_size = batch_size, \n",
        "                                                    class_mode='categorical',\n",
        "                                                    subset='training')\n",
        "\n",
        "valid_generator = train_datagen.flow_from_directory('data/train', \n",
        "                                                    target_size=(image_size, image_size),\n",
        "                                                    batch_size = batch_size, \n",
        "                                                    class_mode='categorical',\n",
        "                                                    subset='validation')\n",
        "\n",
        "model = get_model(num_classes, image_size)\n",
        "\n",
        "checkpoint =  tf.keras.callbacks.ModelCheckpoint('weights.h5', monitor='val_acc',\n",
        "                                                    mode='max', save_weights_only=True,\n",
        "                                                    save_best_only=True, verbose=1)\n",
        "\n",
        "history = model.fit_generator(train_generator,\n",
        "                              steps_per_epoch=train_generator.samples//batch_size,\n",
        "                              epochs=num_epochs, callbacks=[checkpoint],\n",
        "                              validation_data=valid_generator,\n",
        "                              validation_steps=valid_generator.samples//batch_size)\n"
      ],
      "execution_count": 29,
      "outputs": [
        {
          "output_type": "stream",
          "text": [
            "Found 4020 images belonging to 5 classes.\n",
            "Found 1980 images belonging to 5 classes.\n"
          ],
          "name": "stdout"
        },
        {
          "output_type": "stream",
          "text": [
            "/usr/local/lib/python3.6/dist-packages/keras/applications/mobilenet.py:224: UserWarning: MobileNet shape is undefined. Weights for input shape (224, 224) will be loaded.\n",
            "  warnings.warn('MobileNet shape is undefined.'\n"
          ],
          "name": "stderr"
        },
        {
          "output_type": "stream",
          "text": [
            "Downloading data from https://github.com/fchollet/deep-learning-models/releases/download/v0.6/mobilenet_1_0_224_tf_no_top.h5\n",
            "17227776/17225924 [==============================] - 2s 0us/step\n",
            "Epoch 1/100\n",
            "62/62 [==============================] - 115s 2s/step - loss: 4.0589 - acc: 0.6768 - val_loss: 3.5743 - val_acc: 0.7391\n",
            "\n",
            "Epoch 00001: val_acc improved from -inf to 0.73906, saving model to weights.h5\n",
            "Epoch 2/100\n",
            "62/62 [==============================] - 22s 356ms/step - loss: 3.3096 - acc: 0.7827 - val_loss: 3.6523 - val_acc: 0.7318\n",
            "\n",
            "Epoch 00002: val_acc did not improve from 0.73906\n",
            "Epoch 3/100\n",
            "62/62 [==============================] - 22s 356ms/step - loss: 3.2851 - acc: 0.7886 - val_loss: 3.8408 - val_acc: 0.7036\n",
            "\n",
            "Epoch 00003: val_acc did not improve from 0.73906\n",
            "Epoch 4/100\n",
            "62/62 [==============================] - 22s 357ms/step - loss: 3.2514 - acc: 0.7913 - val_loss: 3.6840 - val_acc: 0.7318\n",
            "\n",
            "Epoch 00004: val_acc did not improve from 0.73906\n",
            "Epoch 5/100\n",
            "62/62 [==============================] - 22s 356ms/step - loss: 3.2020 - acc: 0.7992 - val_loss: 3.5257 - val_acc: 0.7510\n",
            "\n",
            "Epoch 00005: val_acc improved from 0.73906 to 0.75104, saving model to weights.h5\n",
            "Epoch 6/100\n",
            "62/62 [==============================] - 22s 355ms/step - loss: 3.2435 - acc: 0.7952 - val_loss: 3.4454 - val_acc: 0.7599\n",
            "\n",
            "Epoch 00006: val_acc improved from 0.75104 to 0.75990, saving model to weights.h5\n",
            "Epoch 7/100\n",
            "62/62 [==============================] - 22s 356ms/step - loss: 3.2407 - acc: 0.7949 - val_loss: 3.6176 - val_acc: 0.7448\n",
            "\n",
            "Epoch 00007: val_acc did not improve from 0.75990\n",
            "Epoch 8/100\n",
            "62/62 [==============================] - 22s 355ms/step - loss: 3.2382 - acc: 0.7970 - val_loss: 3.8061 - val_acc: 0.7219\n",
            "\n",
            "Epoch 00008: val_acc did not improve from 0.75990\n",
            "Epoch 9/100\n",
            "62/62 [==============================] - 22s 356ms/step - loss: 3.2991 - acc: 0.7947 - val_loss: 3.8512 - val_acc: 0.7193\n",
            "\n",
            "Epoch 00009: val_acc did not improve from 0.75990\n",
            "Epoch 10/100\n",
            "62/62 [==============================] - 22s 357ms/step - loss: 3.1566 - acc: 0.8032 - val_loss: 3.6858 - val_acc: 0.7286\n",
            "\n",
            "Epoch 00010: val_acc did not improve from 0.75990\n",
            "Epoch 11/100\n",
            "62/62 [==============================] - 22s 358ms/step - loss: 3.2950 - acc: 0.7921 - val_loss: 4.1452 - val_acc: 0.7010\n",
            "\n",
            "Epoch 00011: val_acc did not improve from 0.75990\n",
            "Epoch 12/100\n",
            "62/62 [==============================] - 22s 355ms/step - loss: 3.2064 - acc: 0.7984 - val_loss: 3.9140 - val_acc: 0.7089\n",
            "\n",
            "Epoch 00012: val_acc did not improve from 0.75990\n",
            "Epoch 13/100\n",
            "62/62 [==============================] - 22s 358ms/step - loss: 3.2084 - acc: 0.7996 - val_loss: 3.9626 - val_acc: 0.7083\n",
            "\n",
            "Epoch 00013: val_acc did not improve from 0.75990\n",
            "Epoch 14/100\n",
            "62/62 [==============================] - 22s 358ms/step - loss: 3.2447 - acc: 0.7965 - val_loss: 4.1561 - val_acc: 0.6948\n",
            "\n",
            "Epoch 00014: val_acc did not improve from 0.75990\n",
            "Epoch 15/100\n",
            "62/62 [==============================] - 22s 356ms/step - loss: 3.2635 - acc: 0.7940 - val_loss: 4.0766 - val_acc: 0.7031\n",
            "\n",
            "Epoch 00015: val_acc did not improve from 0.75990\n",
            "Epoch 16/100\n",
            "62/62 [==============================] - 22s 356ms/step - loss: 3.2944 - acc: 0.7939 - val_loss: 3.7705 - val_acc: 0.7401\n",
            "\n",
            "Epoch 00016: val_acc did not improve from 0.75990\n",
            "Epoch 17/100\n",
            "62/62 [==============================] - 22s 354ms/step - loss: 3.0967 - acc: 0.8062 - val_loss: 4.1498 - val_acc: 0.7000\n",
            "\n",
            "Epoch 00017: val_acc did not improve from 0.75990\n",
            "Epoch 18/100\n",
            "62/62 [==============================] - 22s 354ms/step - loss: 3.4132 - acc: 0.7849 - val_loss: 3.8249 - val_acc: 0.7370\n",
            "\n",
            "Epoch 00018: val_acc did not improve from 0.75990\n",
            "Epoch 19/100\n",
            "62/62 [==============================] - 22s 355ms/step - loss: 3.1488 - acc: 0.7973 - val_loss: 3.6928 - val_acc: 0.7448\n",
            "\n",
            "Epoch 00019: val_acc did not improve from 0.75990\n",
            "Epoch 20/100\n",
            "62/62 [==============================] - 22s 353ms/step - loss: 3.3439 - acc: 0.7881 - val_loss: 3.7751 - val_acc: 0.7396\n",
            "\n",
            "Epoch 00020: val_acc did not improve from 0.75990\n",
            "Epoch 21/100\n",
            "62/62 [==============================] - 22s 351ms/step - loss: 3.2685 - acc: 0.7945 - val_loss: 3.6891 - val_acc: 0.7510\n",
            "\n",
            "Epoch 00021: val_acc did not improve from 0.75990\n",
            "Epoch 22/100\n",
            "62/62 [==============================] - 22s 352ms/step - loss: 3.2129 - acc: 0.8005 - val_loss: 3.6164 - val_acc: 0.7562\n",
            "\n",
            "Epoch 00022: val_acc did not improve from 0.75990\n",
            "Epoch 23/100\n",
            "62/62 [==============================] - 22s 352ms/step - loss: 3.2524 - acc: 0.7973 - val_loss: 3.6209 - val_acc: 0.7583\n",
            "\n",
            "Epoch 00023: val_acc did not improve from 0.75990\n",
            "Epoch 24/100\n",
            "62/62 [==============================] - 22s 352ms/step - loss: 3.2435 - acc: 0.7967 - val_loss: 3.5079 - val_acc: 0.7708\n",
            "\n",
            "Epoch 00024: val_acc improved from 0.75990 to 0.77083, saving model to weights.h5\n",
            "Epoch 25/100\n",
            "62/62 [==============================] - 22s 351ms/step - loss: 3.2319 - acc: 0.7981 - val_loss: 3.5433 - val_acc: 0.7672\n",
            "\n",
            "Epoch 00025: val_acc did not improve from 0.77083\n",
            "Epoch 26/100\n",
            "62/62 [==============================] - 22s 353ms/step - loss: 3.1790 - acc: 0.7976 - val_loss: 3.8052 - val_acc: 0.6729\n",
            "\n",
            "Epoch 00026: val_acc did not improve from 0.77083\n",
            "Epoch 27/100\n",
            "62/62 [==============================] - 22s 353ms/step - loss: 0.5349 - acc: 0.9357 - val_loss: 1.3769 - val_acc: 0.8536\n",
            "\n",
            "Epoch 00027: val_acc improved from 0.77083 to 0.85365, saving model to weights.h5\n",
            "Epoch 28/100\n",
            "62/62 [==============================] - 22s 350ms/step - loss: 0.1677 - acc: 0.9740 - val_loss: 0.7331 - val_acc: 0.8885\n",
            "\n",
            "Epoch 00028: val_acc improved from 0.85365 to 0.88854, saving model to weights.h5\n",
            "Epoch 29/100\n",
            "62/62 [==============================] - 22s 349ms/step - loss: 0.1016 - acc: 0.9822 - val_loss: 0.7731 - val_acc: 0.9016\n",
            "\n",
            "Epoch 00029: val_acc improved from 0.88854 to 0.90156, saving model to weights.h5\n",
            "Epoch 30/100\n",
            "62/62 [==============================] - 22s 349ms/step - loss: 0.0575 - acc: 0.9904 - val_loss: 0.7790 - val_acc: 0.8917\n",
            "\n",
            "Epoch 00030: val_acc did not improve from 0.90156\n",
            "Epoch 31/100\n",
            "62/62 [==============================] - 22s 350ms/step - loss: 0.0175 - acc: 0.9952 - val_loss: 0.8139 - val_acc: 0.8911\n",
            "\n",
            "Epoch 00031: val_acc did not improve from 0.90156\n",
            "Epoch 32/100\n",
            "62/62 [==============================] - 22s 349ms/step - loss: 0.0209 - acc: 0.9958 - val_loss: 0.7927 - val_acc: 0.9078\n",
            "\n",
            "Epoch 00032: val_acc improved from 0.90156 to 0.90781, saving model to weights.h5\n",
            "Epoch 33/100\n",
            "62/62 [==============================] - 22s 347ms/step - loss: 0.0192 - acc: 0.9957 - val_loss: 0.7879 - val_acc: 0.9021\n",
            "\n",
            "Epoch 00033: val_acc did not improve from 0.90781\n",
            "Epoch 34/100\n",
            "62/62 [==============================] - 21s 346ms/step - loss: 0.0057 - acc: 0.9990 - val_loss: 0.6568 - val_acc: 0.9193\n",
            "\n",
            "Epoch 00034: val_acc improved from 0.90781 to 0.91927, saving model to weights.h5\n",
            "Epoch 35/100\n",
            "62/62 [==============================] - 21s 346ms/step - loss: 0.0089 - acc: 0.9977 - val_loss: 0.8011 - val_acc: 0.9057\n",
            "\n",
            "Epoch 00035: val_acc did not improve from 0.91927\n",
            "Epoch 36/100\n",
            "62/62 [==============================] - 21s 345ms/step - loss: 0.0060 - acc: 0.9995 - val_loss: 1.1811 - val_acc: 0.8609\n",
            "\n",
            "Epoch 00036: val_acc did not improve from 0.91927\n",
            "Epoch 37/100\n",
            "62/62 [==============================] - 22s 347ms/step - loss: 0.0229 - acc: 0.9947 - val_loss: 0.6962 - val_acc: 0.9062\n",
            "\n",
            "Epoch 00037: val_acc did not improve from 0.91927\n",
            "Epoch 38/100\n",
            "62/62 [==============================] - 21s 345ms/step - loss: 0.0105 - acc: 0.9982 - val_loss: 0.7961 - val_acc: 0.8943\n",
            "\n",
            "Epoch 00038: val_acc did not improve from 0.91927\n",
            "Epoch 39/100\n",
            "62/62 [==============================] - 21s 345ms/step - loss: 0.0133 - acc: 0.9978 - val_loss: 0.7604 - val_acc: 0.9057\n",
            "\n",
            "Epoch 00039: val_acc did not improve from 0.91927\n",
            "Epoch 40/100\n",
            "62/62 [==============================] - 21s 345ms/step - loss: 0.0016 - acc: 0.9997 - val_loss: 0.7539 - val_acc: 0.9120\n",
            "\n",
            "Epoch 00040: val_acc did not improve from 0.91927\n",
            "Epoch 41/100\n",
            "62/62 [==============================] - 21s 344ms/step - loss: 0.0214 - acc: 0.9950 - val_loss: 1.4046 - val_acc: 0.8557\n",
            "\n",
            "Epoch 00041: val_acc did not improve from 0.91927\n",
            "Epoch 42/100\n",
            "62/62 [==============================] - 21s 343ms/step - loss: 0.0584 - acc: 0.9904 - val_loss: 0.7755 - val_acc: 0.9187\n",
            "\n",
            "Epoch 00042: val_acc did not improve from 0.91927\n",
            "Epoch 43/100\n",
            "62/62 [==============================] - 21s 343ms/step - loss: 0.0609 - acc: 0.9886 - val_loss: 0.7869 - val_acc: 0.9057\n",
            "\n",
            "Epoch 00043: val_acc did not improve from 0.91927\n",
            "Epoch 44/100\n",
            "62/62 [==============================] - 21s 343ms/step - loss: 0.0298 - acc: 0.9957 - val_loss: 0.8940 - val_acc: 0.9005\n",
            "\n",
            "Epoch 00044: val_acc did not improve from 0.91927\n",
            "Epoch 45/100\n",
            "62/62 [==============================] - 21s 342ms/step - loss: 0.0079 - acc: 0.9980 - val_loss: 0.8720 - val_acc: 0.9036\n",
            "\n",
            "Epoch 00045: val_acc did not improve from 0.91927\n",
            "Epoch 46/100\n",
            "62/62 [==============================] - 21s 341ms/step - loss: 0.0094 - acc: 0.9985 - val_loss: 0.9068 - val_acc: 0.9010\n",
            "\n",
            "Epoch 00046: val_acc did not improve from 0.91927\n",
            "Epoch 47/100\n",
            "62/62 [==============================] - 21s 342ms/step - loss: 5.2911e-04 - acc: 0.9997 - val_loss: 0.9687 - val_acc: 0.9026\n",
            "\n",
            "Epoch 00047: val_acc did not improve from 0.91927\n",
            "Epoch 48/100\n",
            "62/62 [==============================] - 21s 341ms/step - loss: 0.0157 - acc: 0.9975 - val_loss: 1.0998 - val_acc: 0.8828\n",
            "\n",
            "Epoch 00048: val_acc did not improve from 0.91927\n",
            "Epoch 49/100\n",
            "62/62 [==============================] - 21s 341ms/step - loss: 0.0080 - acc: 0.9977 - val_loss: 0.8797 - val_acc: 0.9146\n",
            "\n",
            "Epoch 00049: val_acc did not improve from 0.91927\n",
            "Epoch 50/100\n",
            "62/62 [==============================] - 21s 338ms/step - loss: 0.0485 - acc: 0.9931 - val_loss: 0.7572 - val_acc: 0.9219\n",
            "\n",
            "Epoch 00050: val_acc improved from 0.91927 to 0.92188, saving model to weights.h5\n",
            "Epoch 51/100\n",
            "62/62 [==============================] - 21s 340ms/step - loss: 0.0142 - acc: 0.9972 - val_loss: 0.9891 - val_acc: 0.9036\n",
            "\n",
            "Epoch 00051: val_acc did not improve from 0.92188\n",
            "Epoch 52/100\n",
            "62/62 [==============================] - 21s 344ms/step - loss: 0.0013 - acc: 0.9992 - val_loss: 0.7685 - val_acc: 0.9224\n",
            "\n",
            "Epoch 00052: val_acc improved from 0.92188 to 0.92240, saving model to weights.h5\n",
            "Epoch 53/100\n",
            "62/62 [==============================] - 21s 340ms/step - loss: 0.0031 - acc: 0.9990 - val_loss: 0.9736 - val_acc: 0.9052\n",
            "\n",
            "Epoch 00053: val_acc did not improve from 0.92240\n",
            "Epoch 54/100\n",
            "62/62 [==============================] - 21s 339ms/step - loss: 3.7838e-04 - acc: 1.0000 - val_loss: 0.7974 - val_acc: 0.9224\n",
            "\n",
            "Epoch 00054: val_acc did not improve from 0.92240\n",
            "Epoch 55/100\n",
            "62/62 [==============================] - 21s 339ms/step - loss: 0.0092 - acc: 0.9980 - val_loss: 0.8954 - val_acc: 0.9120\n",
            "\n",
            "Epoch 00055: val_acc did not improve from 0.92240\n",
            "Epoch 56/100\n",
            "62/62 [==============================] - 21s 341ms/step - loss: 0.0071 - acc: 0.9985 - val_loss: 0.7988 - val_acc: 0.9245\n",
            "\n",
            "Epoch 00056: val_acc improved from 0.92240 to 0.92448, saving model to weights.h5\n",
            "Epoch 57/100\n",
            "62/62 [==============================] - 21s 340ms/step - loss: 2.3367e-04 - acc: 1.0000 - val_loss: 1.3067 - val_acc: 0.8833\n",
            "\n",
            "Epoch 00057: val_acc did not improve from 0.92448\n",
            "Epoch 58/100\n",
            "62/62 [==============================] - 21s 342ms/step - loss: 0.0077 - acc: 0.9987 - val_loss: 1.0946 - val_acc: 0.9042\n",
            "\n",
            "Epoch 00058: val_acc did not improve from 0.92448\n",
            "Epoch 59/100\n",
            "62/62 [==============================] - 21s 342ms/step - loss: 0.0044 - acc: 0.9987 - val_loss: 1.0627 - val_acc: 0.9042\n",
            "\n",
            "Epoch 00059: val_acc did not improve from 0.92448\n",
            "Epoch 60/100\n",
            "62/62 [==============================] - 21s 342ms/step - loss: 0.0152 - acc: 0.9977 - val_loss: 1.6211 - val_acc: 0.8594\n",
            "\n",
            "Epoch 00060: val_acc did not improve from 0.92448\n",
            "Epoch 61/100\n",
            "62/62 [==============================] - 21s 341ms/step - loss: 0.0386 - acc: 0.9950 - val_loss: 1.3026 - val_acc: 0.8818\n",
            "\n",
            "Epoch 00061: val_acc did not improve from 0.92448\n",
            "Epoch 62/100\n",
            "62/62 [==============================] - 21s 340ms/step - loss: 0.0072 - acc: 0.9980 - val_loss: 0.9394 - val_acc: 0.9089\n",
            "\n",
            "Epoch 00062: val_acc did not improve from 0.92448\n",
            "Epoch 63/100\n",
            "62/62 [==============================] - 21s 341ms/step - loss: 0.0211 - acc: 0.9975 - val_loss: 1.6146 - val_acc: 0.8604\n",
            "\n",
            "Epoch 00063: val_acc did not improve from 0.92448\n",
            "Epoch 64/100\n",
            "62/62 [==============================] - 21s 331ms/step - loss: 0.0868 - acc: 0.9902 - val_loss: 1.2080 - val_acc: 0.8844\n",
            "\n",
            "Epoch 00064: val_acc did not improve from 0.92448\n",
            "Epoch 65/100\n",
            "62/62 [==============================] - 22s 354ms/step - loss: 0.0106 - acc: 0.9984 - val_loss: 1.2266 - val_acc: 0.8958\n",
            "\n",
            "Epoch 00065: val_acc did not improve from 0.92448\n",
            "Epoch 66/100\n",
            "62/62 [==============================] - 22s 355ms/step - loss: 0.0095 - acc: 0.9982 - val_loss: 1.2561 - val_acc: 0.8922\n",
            "\n",
            "Epoch 00066: val_acc did not improve from 0.92448\n",
            "Epoch 67/100\n",
            "62/62 [==============================] - 22s 354ms/step - loss: 0.0256 - acc: 0.9965 - val_loss: 1.0955 - val_acc: 0.9161\n",
            "\n",
            "Epoch 00067: val_acc did not improve from 0.92448\n",
            "Epoch 68/100\n",
            "62/62 [==============================] - 22s 354ms/step - loss: 0.0276 - acc: 0.9957 - val_loss: 1.0859 - val_acc: 0.9042\n",
            "\n",
            "Epoch 00068: val_acc did not improve from 0.92448\n",
            "Epoch 69/100\n",
            "62/62 [==============================] - 22s 356ms/step - loss: 0.0386 - acc: 0.9940 - val_loss: 2.2104 - val_acc: 0.8250\n",
            "\n",
            "Epoch 00069: val_acc did not improve from 0.92448\n",
            "Epoch 70/100\n",
            "62/62 [==============================] - 22s 355ms/step - loss: 0.0474 - acc: 0.9942 - val_loss: 1.2179 - val_acc: 0.8964\n",
            "\n",
            "Epoch 00070: val_acc did not improve from 0.92448\n",
            "Epoch 71/100\n",
            "62/62 [==============================] - 22s 357ms/step - loss: 0.0169 - acc: 0.9982 - val_loss: 0.9294 - val_acc: 0.9240\n",
            "\n",
            "Epoch 00071: val_acc did not improve from 0.92448\n",
            "Epoch 72/100\n",
            "62/62 [==============================] - 22s 358ms/step - loss: 0.0434 - acc: 0.9942 - val_loss: 1.1947 - val_acc: 0.9005\n",
            "\n",
            "Epoch 00072: val_acc did not improve from 0.92448\n",
            "Epoch 73/100\n",
            "62/62 [==============================] - 22s 357ms/step - loss: 0.0145 - acc: 0.9972 - val_loss: 1.1259 - val_acc: 0.9073\n",
            "\n",
            "Epoch 00073: val_acc did not improve from 0.92448\n",
            "Epoch 74/100\n",
            "62/62 [==============================] - 22s 358ms/step - loss: 0.0178 - acc: 0.9974 - val_loss: 1.3989 - val_acc: 0.8875\n",
            "\n",
            "Epoch 00074: val_acc did not improve from 0.92448\n",
            "Epoch 75/100\n",
            "62/62 [==============================] - 22s 358ms/step - loss: 0.0194 - acc: 0.9965 - val_loss: 1.1120 - val_acc: 0.9109\n",
            "\n",
            "Epoch 00075: val_acc did not improve from 0.92448\n",
            "Epoch 76/100\n",
            "62/62 [==============================] - 22s 357ms/step - loss: 0.0196 - acc: 0.9977 - val_loss: 1.1102 - val_acc: 0.9062\n",
            "\n",
            "Epoch 00076: val_acc did not improve from 0.92448\n",
            "Epoch 77/100\n",
            "62/62 [==============================] - 22s 357ms/step - loss: 0.0132 - acc: 0.9985 - val_loss: 1.2247 - val_acc: 0.8943\n",
            "\n",
            "Epoch 00077: val_acc did not improve from 0.92448\n",
            "Epoch 78/100\n",
            "62/62 [==============================] - 22s 357ms/step - loss: 0.0078 - acc: 0.9982 - val_loss: 1.2472 - val_acc: 0.8953\n",
            "\n",
            "Epoch 00078: val_acc did not improve from 0.92448\n",
            "Epoch 79/100\n",
            "62/62 [==============================] - 22s 355ms/step - loss: 0.0084 - acc: 0.9990 - val_loss: 1.1100 - val_acc: 0.9099\n",
            "\n",
            "Epoch 00079: val_acc did not improve from 0.92448\n",
            "Epoch 80/100\n",
            "62/62 [==============================] - 22s 354ms/step - loss: 0.0262 - acc: 0.9965 - val_loss: 1.2586 - val_acc: 0.8943\n",
            "\n",
            "Epoch 00080: val_acc did not improve from 0.92448\n",
            "Epoch 81/100\n",
            "62/62 [==============================] - 22s 354ms/step - loss: 0.0100 - acc: 0.9980 - val_loss: 1.4302 - val_acc: 0.8740\n",
            "\n",
            "Epoch 00081: val_acc did not improve from 0.92448\n",
            "Epoch 82/100\n",
            "62/62 [==============================] - 22s 354ms/step - loss: 0.0154 - acc: 0.9977 - val_loss: 1.1952 - val_acc: 0.9000\n",
            "\n",
            "Epoch 00082: val_acc did not improve from 0.92448\n",
            "Epoch 83/100\n",
            "62/62 [==============================] - 22s 355ms/step - loss: 0.0227 - acc: 0.9977 - val_loss: 0.7433 - val_acc: 0.9396\n",
            "\n",
            "Epoch 00083: val_acc improved from 0.92448 to 0.93958, saving model to weights.h5\n",
            "Epoch 84/100\n",
            "62/62 [==============================] - 22s 353ms/step - loss: 0.0306 - acc: 0.9962 - val_loss: 1.7080 - val_acc: 0.8620\n",
            "\n",
            "Epoch 00084: val_acc did not improve from 0.93958\n",
            "Epoch 85/100\n",
            "62/62 [==============================] - 22s 352ms/step - loss: 0.0106 - acc: 0.9985 - val_loss: 1.1906 - val_acc: 0.9047\n",
            "\n",
            "Epoch 00085: val_acc did not improve from 0.93958\n",
            "Epoch 86/100\n",
            "62/62 [==============================] - 22s 353ms/step - loss: 0.0223 - acc: 0.9975 - val_loss: 1.0524 - val_acc: 0.9120\n",
            "\n",
            "Epoch 00086: val_acc did not improve from 0.93958\n",
            "Epoch 87/100\n",
            "62/62 [==============================] - 22s 352ms/step - loss: 0.0092 - acc: 0.9987 - val_loss: 1.0930 - val_acc: 0.9135\n",
            "\n",
            "Epoch 00087: val_acc did not improve from 0.93958\n",
            "Epoch 88/100\n",
            "62/62 [==============================] - 22s 352ms/step - loss: 0.0378 - acc: 0.9970 - val_loss: 1.8692 - val_acc: 0.8573\n",
            "\n",
            "Epoch 00088: val_acc did not improve from 0.93958\n",
            "Epoch 89/100\n",
            "62/62 [==============================] - 22s 352ms/step - loss: 0.0176 - acc: 0.9975 - val_loss: 1.0693 - val_acc: 0.9214\n",
            "\n",
            "Epoch 00089: val_acc did not improve from 0.93958\n",
            "Epoch 90/100\n",
            "62/62 [==============================] - 22s 351ms/step - loss: 0.0195 - acc: 0.9982 - val_loss: 1.0400 - val_acc: 0.9193\n",
            "\n",
            "Epoch 00090: val_acc did not improve from 0.93958\n",
            "Epoch 91/100\n",
            "62/62 [==============================] - 22s 350ms/step - loss: 0.0396 - acc: 0.9953 - val_loss: 0.7303 - val_acc: 0.9359\n",
            "\n",
            "Epoch 00091: val_acc did not improve from 0.93958\n",
            "Epoch 92/100\n",
            "62/62 [==============================] - 22s 349ms/step - loss: 0.0347 - acc: 0.9970 - val_loss: 1.2111 - val_acc: 0.9036\n",
            "\n",
            "Epoch 00092: val_acc did not improve from 0.93958\n",
            "Epoch 93/100\n",
            "62/62 [==============================] - 22s 347ms/step - loss: 0.0222 - acc: 0.9977 - val_loss: 1.0178 - val_acc: 0.9203\n",
            "\n",
            "Epoch 00093: val_acc did not improve from 0.93958\n",
            "Epoch 94/100\n",
            "62/62 [==============================] - 22s 348ms/step - loss: 0.0513 - acc: 0.9950 - val_loss: 0.9746 - val_acc: 0.9203\n",
            "\n",
            "Epoch 00094: val_acc did not improve from 0.93958\n",
            "Epoch 95/100\n",
            "62/62 [==============================] - 22s 348ms/step - loss: 0.0158 - acc: 0.9987 - val_loss: 1.2548 - val_acc: 0.9057\n",
            "\n",
            "Epoch 00095: val_acc did not improve from 0.93958\n",
            "Epoch 96/100\n",
            "62/62 [==============================] - 22s 349ms/step - loss: 0.0133 - acc: 0.9982 - val_loss: 1.0276 - val_acc: 0.9135\n",
            "\n",
            "Epoch 00096: val_acc did not improve from 0.93958\n",
            "Epoch 97/100\n",
            "62/62 [==============================] - 22s 348ms/step - loss: 0.0097 - acc: 0.9982 - val_loss: 1.2133 - val_acc: 0.9057\n",
            "\n",
            "Epoch 00097: val_acc did not improve from 0.93958\n",
            "Epoch 98/100\n",
            "62/62 [==============================] - 22s 347ms/step - loss: 0.0019 - acc: 0.9995 - val_loss: 1.3631 - val_acc: 0.8979\n",
            "\n",
            "Epoch 00098: val_acc did not improve from 0.93958\n",
            "Epoch 99/100\n",
            "62/62 [==============================] - 21s 345ms/step - loss: 0.0062 - acc: 0.9990 - val_loss: 1.7493 - val_acc: 0.8703\n",
            "\n",
            "Epoch 00099: val_acc did not improve from 0.93958\n",
            "Epoch 100/100\n",
            "62/62 [==============================] - 21s 345ms/step - loss: 0.0394 - acc: 0.9964 - val_loss: 1.1474 - val_acc: 0.9083\n",
            "\n",
            "Epoch 00100: val_acc did not improve from 0.93958\n"
          ],
          "name": "stdout"
        }
      ]
    },
    {
      "metadata": {
        "id": "AEagW7epvmPs",
        "colab_type": "code",
        "colab": {}
      },
      "cell_type": "code",
      "source": [
        "%matplotlib inline\n",
        "import matplotlib.pyplot as plt\n",
        "\n",
        "training_loss = history.history['loss']\n",
        "val_loss = history.history['val_loss']\n",
        "train_acc = history.history['acc']\n",
        "val_acc = history.history['val_acc']"
      ],
      "execution_count": 0,
      "outputs": []
    },
    {
      "metadata": {
        "id": "iKBesRRw4pX4",
        "colab_type": "code",
        "colab": {
          "base_uri": "https://localhost:8080/",
          "height": 311
        },
        "outputId": "16bc84e9-7579-4998-fc0a-79f8f831581d"
      },
      "cell_type": "code",
      "source": [
        "plt.plot(training_loss)\n",
        "plt.plot(val_loss)\n",
        "plt.xlabel('num of Epochs')\n",
        "plt.ylabel('loss')\n",
        "plt.title('train_loss vs val_loss')\n",
        "plt.grid(True)\n",
        "plt.legend(['train','val'])"
      ],
      "execution_count": 31,
      "outputs": [
        {
          "output_type": "execute_result",
          "data": {
            "text/plain": [
              "<matplotlib.legend.Legend at 0x7f49e6d8f160>"
            ]
          },
          "metadata": {
            "tags": []
          },
          "execution_count": 31
        },
        {
          "output_type": "display_data",
          "data": {
            "image/png": "[encoded data removed]",
            "text/plain": [
              "<matplotlib.figure.Figure at 0x7f49bbe032e8>"
            ]
          },
          "metadata": {
            "tags": []
          }
        }
      ]
    },
    {
      "metadata": {
        "id": "wVlBuhGt4qJh",
        "colab_type": "code",
        "colab": {
          "base_uri": "https://localhost:8080/",
          "height": 311
        },
        "outputId": "5438dde4-43cd-453d-b7c2-58af8b79cc74"
      },
      "cell_type": "code",
      "source": [
        "plt.plot(train_acc)\n",
        "plt.plot(val_acc)\n",
        "plt.xlabel('num of Epochs')\n",
        "plt.ylabel('accuracy')\n",
        "plt.title('train_acc vs val_acc')\n",
        "plt.grid(True)\n",
        "plt.legend(['train','val'],loc=4)"
      ],
      "execution_count": 32,
      "outputs": [
        {
          "output_type": "execute_result",
          "data": {
            "text/plain": [
              "<matplotlib.legend.Legend at 0x7f49e6cb65c0>"
            ]
          },
          "metadata": {
            "tags": []
          },
          "execution_count": 32
        },
        {
          "output_type": "display_data",
          "data": {
            "image/png": "[encoded data removed]",
            "text/plain": [
              "<matplotlib.figure.Figure at 0x7f4990da7f60>"
            ]
          },
          "metadata": {
            "tags": []
          }
        }
      ]
    },
    {
      "metadata": {
        "id": "-sddI4vy4wHq",
        "colab_type": "code",
        "colab": {
          "base_uri": "https://localhost:8080/",
          "height": 34
        },
        "outputId": "24a43887-4a25-4842-d47d-076f6fb0a652"
      },
      "cell_type": "code",
      "source": [
        "test_datagen = ImageDataGenerator(rescale=1./255)\n",
        "\n",
        "test_generator = test_datagen.flow_from_directory('data/test', \n",
        "                                                    target_size=(image_size, image_size),\n",
        "                                                    batch_size = batch_size, \n",
        "                                                    class_mode='categorical')"
      ],
      "execution_count": 33,
      "outputs": [
        {
          "output_type": "stream",
          "text": [
            "Found 2000 images belonging to 5 classes.\n"
          ],
          "name": "stdout"
        }
      ]
    },
    {
      "metadata": {
        "id": "i_KwdG1t67QH",
        "colab_type": "code",
        "colab": {
          "base_uri": "https://localhost:8080/",
          "height": 71
        },
        "outputId": "e1f66431-10aa-4830-ccd7-16a9cb98ff8b"
      },
      "cell_type": "code",
      "source": [
        "model = get_model(num_classes, image_size)\n",
        "model.load_weights('weights.h5')"
      ],
      "execution_count": 34,
      "outputs": [
        {
          "output_type": "stream",
          "text": [
            "/usr/local/lib/python3.6/dist-packages/keras/applications/mobilenet.py:224: UserWarning: MobileNet shape is undefined. Weights for input shape (224, 224) will be loaded.\n",
            "  warnings.warn('MobileNet shape is undefined.'\n"
          ],
          "name": "stderr"
        }
      ]
    },
    {
      "metadata": {
        "id": "28s82SF87Iht",
        "colab_type": "code",
        "colab": {
          "base_uri": "https://localhost:8080/",
          "height": 68
        },
        "outputId": "95277fe3-f923-4828-a2e4-f31ada2f6241"
      },
      "cell_type": "code",
      "source": [
        "evaluate = model.evaluate_generator(test_generator)\n",
        "\n",
        "print('Test \\n loss:{} \\n accuracy:{}'.format(evaluate[0], evaluate[1]))"
      ],
      "execution_count": 35,
      "outputs": [
        {
          "output_type": "stream",
          "text": [
            "Test \n",
            " loss:0.7988834643363953 \n",
            " accuracy:0.9345\n"
          ],
          "name": "stdout"
        }
      ]
    },
    {
      "metadata": {
        "id": "0kpyPl3A-ULq",
        "colab_type": "code",
        "colab": {}
      },
      "cell_type": "code",
      "source": [
        ""
      ],
      "execution_count": 0,
      "outputs": []
    }
  ]
}